{
 "cells": [
  {
   "cell_type": "markdown",
   "id": "d65ebca6",
   "metadata": {},
   "source": [
    "#### Create a mini project using the PIMA Indian Diabetes dataset to train a neural network classifier. Include preprocessing, training, evaluation, and comparison with atleast two traditional ML models using metrics like accuracy and confusion matrix"
   ]
  },
  {
   "cell_type": "code",
   "execution_count": null,
   "id": "8c1d7281",
   "metadata": {},
   "outputs": [],
   "source": []
  }
 ],
 "metadata": {
  "language_info": {
   "name": "python"
  }
 },
 "nbformat": 4,
 "nbformat_minor": 5
}
