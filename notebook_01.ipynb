{
 "cells": [
  {
   "cell_type": "markdown",
   "id": "d65ebca6",
   "metadata": {},
   "source": [
    "#### Create a mini project using the PIMA Indian Diabetes dataset to train a neural network classifier. Include preprocessing, training, evaluation, and comparison with atleast two traditional ML models using metrics like accuracy and confusion matrix"
   ]
  },
  {
   "cell_type": "markdown",
   "id": "0d20051e",
   "metadata": {},
   "source": [
    "Outline\n",
    "1. Download the dataset "
   ]
  },
  {
   "cell_type": "code",
   "execution_count": 1,
   "id": "8c1d7281",
   "metadata": {},
   "outputs": [],
   "source": [
    "import torch\n",
    "import torch.nn as nn\n",
    "import torch.nn.functional as F\n",
    "from torch.optim import Adam\n",
    "from torch.utils.data import DataLoader\n",
    "import pandas as pd\n",
    "import numpy as np\n",
    "from sklearn.preprocessing import StandardScaler\n",
    "from sklearn.model_selection import train_test_split\n",
    "import matplotlib.pyplot as plt\n",
    "import copy\n",
    "from sklearn.metrics import classification_report, confusion_matrix, accuracy_score\n",
    "import seaborn as sns"
   ]
  },
  {
   "cell_type": "code",
   "execution_count": 2,
   "id": "998f8c52",
   "metadata": {},
   "outputs": [],
   "source": [
    "pima = pd.read_csv(\"diabetes.csv\")"
   ]
  },
  {
   "cell_type": "code",
   "execution_count": 3,
   "id": "6855c487",
   "metadata": {},
   "outputs": [
    {
     "data": {
      "text/html": [
       "<div>\n",
       "<style scoped>\n",
       "    .dataframe tbody tr th:only-of-type {\n",
       "        vertical-align: middle;\n",
       "    }\n",
       "\n",
       "    .dataframe tbody tr th {\n",
       "        vertical-align: top;\n",
       "    }\n",
       "\n",
       "    .dataframe thead th {\n",
       "        text-align: right;\n",
       "    }\n",
       "</style>\n",
       "<table border=\"1\" class=\"dataframe\">\n",
       "  <thead>\n",
       "    <tr style=\"text-align: right;\">\n",
       "      <th></th>\n",
       "      <th>Pregnancies</th>\n",
       "      <th>Glucose</th>\n",
       "      <th>BloodPressure</th>\n",
       "      <th>SkinThickness</th>\n",
       "      <th>Insulin</th>\n",
       "      <th>BMI</th>\n",
       "      <th>DiabetesPedigreeFunction</th>\n",
       "      <th>Age</th>\n",
       "      <th>Outcome</th>\n",
       "    </tr>\n",
       "  </thead>\n",
       "  <tbody>\n",
       "    <tr>\n",
       "      <th>0</th>\n",
       "      <td>6</td>\n",
       "      <td>148</td>\n",
       "      <td>72</td>\n",
       "      <td>35</td>\n",
       "      <td>0</td>\n",
       "      <td>33.6</td>\n",
       "      <td>0.627</td>\n",
       "      <td>50</td>\n",
       "      <td>1</td>\n",
       "    </tr>\n",
       "    <tr>\n",
       "      <th>1</th>\n",
       "      <td>1</td>\n",
       "      <td>85</td>\n",
       "      <td>66</td>\n",
       "      <td>29</td>\n",
       "      <td>0</td>\n",
       "      <td>26.6</td>\n",
       "      <td>0.351</td>\n",
       "      <td>31</td>\n",
       "      <td>0</td>\n",
       "    </tr>\n",
       "    <tr>\n",
       "      <th>2</th>\n",
       "      <td>8</td>\n",
       "      <td>183</td>\n",
       "      <td>64</td>\n",
       "      <td>0</td>\n",
       "      <td>0</td>\n",
       "      <td>23.3</td>\n",
       "      <td>0.672</td>\n",
       "      <td>32</td>\n",
       "      <td>1</td>\n",
       "    </tr>\n",
       "    <tr>\n",
       "      <th>3</th>\n",
       "      <td>1</td>\n",
       "      <td>89</td>\n",
       "      <td>66</td>\n",
       "      <td>23</td>\n",
       "      <td>94</td>\n",
       "      <td>28.1</td>\n",
       "      <td>0.167</td>\n",
       "      <td>21</td>\n",
       "      <td>0</td>\n",
       "    </tr>\n",
       "    <tr>\n",
       "      <th>4</th>\n",
       "      <td>0</td>\n",
       "      <td>137</td>\n",
       "      <td>40</td>\n",
       "      <td>35</td>\n",
       "      <td>168</td>\n",
       "      <td>43.1</td>\n",
       "      <td>2.288</td>\n",
       "      <td>33</td>\n",
       "      <td>1</td>\n",
       "    </tr>\n",
       "    <tr>\n",
       "      <th>...</th>\n",
       "      <td>...</td>\n",
       "      <td>...</td>\n",
       "      <td>...</td>\n",
       "      <td>...</td>\n",
       "      <td>...</td>\n",
       "      <td>...</td>\n",
       "      <td>...</td>\n",
       "      <td>...</td>\n",
       "      <td>...</td>\n",
       "    </tr>\n",
       "    <tr>\n",
       "      <th>763</th>\n",
       "      <td>10</td>\n",
       "      <td>101</td>\n",
       "      <td>76</td>\n",
       "      <td>48</td>\n",
       "      <td>180</td>\n",
       "      <td>32.9</td>\n",
       "      <td>0.171</td>\n",
       "      <td>63</td>\n",
       "      <td>0</td>\n",
       "    </tr>\n",
       "    <tr>\n",
       "      <th>764</th>\n",
       "      <td>2</td>\n",
       "      <td>122</td>\n",
       "      <td>70</td>\n",
       "      <td>27</td>\n",
       "      <td>0</td>\n",
       "      <td>36.8</td>\n",
       "      <td>0.340</td>\n",
       "      <td>27</td>\n",
       "      <td>0</td>\n",
       "    </tr>\n",
       "    <tr>\n",
       "      <th>765</th>\n",
       "      <td>5</td>\n",
       "      <td>121</td>\n",
       "      <td>72</td>\n",
       "      <td>23</td>\n",
       "      <td>112</td>\n",
       "      <td>26.2</td>\n",
       "      <td>0.245</td>\n",
       "      <td>30</td>\n",
       "      <td>0</td>\n",
       "    </tr>\n",
       "    <tr>\n",
       "      <th>766</th>\n",
       "      <td>1</td>\n",
       "      <td>126</td>\n",
       "      <td>60</td>\n",
       "      <td>0</td>\n",
       "      <td>0</td>\n",
       "      <td>30.1</td>\n",
       "      <td>0.349</td>\n",
       "      <td>47</td>\n",
       "      <td>1</td>\n",
       "    </tr>\n",
       "    <tr>\n",
       "      <th>767</th>\n",
       "      <td>1</td>\n",
       "      <td>93</td>\n",
       "      <td>70</td>\n",
       "      <td>31</td>\n",
       "      <td>0</td>\n",
       "      <td>30.4</td>\n",
       "      <td>0.315</td>\n",
       "      <td>23</td>\n",
       "      <td>0</td>\n",
       "    </tr>\n",
       "  </tbody>\n",
       "</table>\n",
       "<p>768 rows × 9 columns</p>\n",
       "</div>"
      ],
      "text/plain": [
       "     Pregnancies  Glucose  BloodPressure  SkinThickness  Insulin   BMI  \\\n",
       "0              6      148             72             35        0  33.6   \n",
       "1              1       85             66             29        0  26.6   \n",
       "2              8      183             64              0        0  23.3   \n",
       "3              1       89             66             23       94  28.1   \n",
       "4              0      137             40             35      168  43.1   \n",
       "..           ...      ...            ...            ...      ...   ...   \n",
       "763           10      101             76             48      180  32.9   \n",
       "764            2      122             70             27        0  36.8   \n",
       "765            5      121             72             23      112  26.2   \n",
       "766            1      126             60              0        0  30.1   \n",
       "767            1       93             70             31        0  30.4   \n",
       "\n",
       "     DiabetesPedigreeFunction  Age  Outcome  \n",
       "0                       0.627   50        1  \n",
       "1                       0.351   31        0  \n",
       "2                       0.672   32        1  \n",
       "3                       0.167   21        0  \n",
       "4                       2.288   33        1  \n",
       "..                        ...  ...      ...  \n",
       "763                     0.171   63        0  \n",
       "764                     0.340   27        0  \n",
       "765                     0.245   30        0  \n",
       "766                     0.349   47        1  \n",
       "767                     0.315   23        0  \n",
       "\n",
       "[768 rows x 9 columns]"
      ]
     },
     "execution_count": 3,
     "metadata": {},
     "output_type": "execute_result"
    }
   ],
   "source": [
    "pima"
   ]
  },
  {
   "cell_type": "markdown",
   "id": "b43eb96a",
   "metadata": {},
   "source": [
    "Scaling the dataset using standard scaler"
   ]
  },
  {
   "cell_type": "code",
   "execution_count": 4,
   "id": "9fdc0d33",
   "metadata": {},
   "outputs": [],
   "source": [
    "std_scaler = StandardScaler()\n",
    "X = pima.drop(\"Outcome\", axis=1)\n",
    "y = pima[\"Outcome\"]\n",
    "X = std_scaler.fit_transform(X)"
   ]
  },
  {
   "cell_type": "markdown",
   "id": "58f4eac0",
   "metadata": {},
   "source": [
    "Dividing the dataset into train, test and validation set"
   ]
  },
  {
   "cell_type": "code",
   "execution_count": 5,
   "id": "b0c730c0",
   "metadata": {},
   "outputs": [],
   "source": [
    "X_train, X_test, y_train, y_test = train_test_split(X, y, test_size=0.2, random_state=42)\n",
    "\n",
    "X_train_tensor = torch.tensor(X_train, dtype=torch.float32)\n",
    "y_train_tensor = torch.tensor(y_train.values, dtype=torch.float32).view(-1, 1)\n",
    "X_test_tensor = torch.tensor(X_test, dtype=torch.float32)\n",
    "y_test_tensor = torch.tensor(y_test.values, dtype=torch.float32).view(-1, 1)"
   ]
  },
  {
   "cell_type": "markdown",
   "id": "c84243cc",
   "metadata": {},
   "source": [
    "#### Training an artificial neural network on the dataset"
   ]
  },
  {
   "cell_type": "markdown",
   "id": "f867b367",
   "metadata": {},
   "source": [
    "Creating a new neural network class using pytorch"
   ]
  },
  {
   "cell_type": "code",
   "execution_count": 7,
   "id": "e4564fa8",
   "metadata": {},
   "outputs": [],
   "source": [
    "class DiabetesModel(nn.Module):\n",
    "    def __init__(self, input_size=8, hidden_size=15, output_size=1):\n",
    "        super(DiabetesModel, self).__init__()\n",
    "        self.fc1 = nn.Linear(input_size, hidden_size)\n",
    "        self.fc2 = nn.Linear(hidden_size, hidden_size)\n",
    "        self.out = nn.Linear(hidden_size, output_size)\n",
    "\n",
    "    def forward(self, x):\n",
    "        x = F.relu(self.fc1(x))\n",
    "        x = F.relu(self.fc2(x))\n",
    "        x = self.out(x)\n",
    "        return x\n",
    "    "
   ]
  },
  {
   "cell_type": "code",
   "execution_count": 8,
   "id": "f786b47a",
   "metadata": {},
   "outputs": [
    {
     "data": {
      "text/plain": [
       "DiabetesModel(\n",
       "  (fc1): Linear(in_features=8, out_features=15, bias=True)\n",
       "  (fc2): Linear(in_features=15, out_features=15, bias=True)\n",
       "  (out): Linear(in_features=15, out_features=1, bias=True)\n",
       ")"
      ]
     },
     "execution_count": 8,
     "metadata": {},
     "output_type": "execute_result"
    }
   ],
   "source": [
    "torch.manual_seed(42)\n",
    "model_01 = DiabetesModel()\n",
    "model_01"
   ]
  },
  {
   "cell_type": "markdown",
   "id": "5cb1c05f",
   "metadata": {},
   "source": [
    "We are using cross entropy loss for calculating the loss of the model, and ADAM for optimizing the weights and biases of the model"
   ]
  },
  {
   "cell_type": "code",
   "execution_count": 9,
   "id": "f939bb7b",
   "metadata": {},
   "outputs": [],
   "source": [
    "loss_fn = nn.BCEWithLogitsLoss()\n",
    "optimizer = Adam(model_01.parameters(), lr=0.014)"
   ]
  },
  {
   "cell_type": "code",
   "execution_count": 10,
   "id": "75ae0751",
   "metadata": {},
   "outputs": [
    {
     "name": "stdout",
     "output_type": "stream",
     "text": [
      "Epoch 1/400, Train Loss: 0.6707, Test Loss: 0.6561\n",
      "Epoch 2/400, Train Loss: 0.6556, Test Loss: 0.6421\n",
      "Epoch 3/400, Train Loss: 0.6406, Test Loss: 0.6272\n",
      "Epoch 4/400, Train Loss: 0.6241, Test Loss: 0.6112\n",
      "Epoch 5/400, Train Loss: 0.6060, Test Loss: 0.5945\n",
      "Epoch 6/400, Train Loss: 0.5871, Test Loss: 0.5780\n",
      "Epoch 7/400, Train Loss: 0.5680, Test Loss: 0.5625\n",
      "Epoch 8/400, Train Loss: 0.5493, Test Loss: 0.5491\n",
      "Epoch 9/400, Train Loss: 0.5318, Test Loss: 0.5379\n",
      "Epoch 10/400, Train Loss: 0.5161, Test Loss: 0.5291\n",
      "Epoch 11/400, Train Loss: 0.5026, Test Loss: 0.5218\n",
      "Epoch 12/400, Train Loss: 0.4911, Test Loss: 0.5156\n",
      "Epoch 13/400, Train Loss: 0.4815, Test Loss: 0.5102\n",
      "Epoch 14/400, Train Loss: 0.4734, Test Loss: 0.5053\n",
      "Epoch 15/400, Train Loss: 0.4667, Test Loss: 0.5019\n",
      "Epoch 16/400, Train Loss: 0.4610, Test Loss: 0.5007\n",
      "Epoch 17/400, Train Loss: 0.4559, Test Loss: 0.5014\n",
      "Epoch 18/400, Train Loss: 0.4517, Test Loss: 0.5044\n",
      "Epoch 19/400, Train Loss: 0.4485, Test Loss: 0.5090\n",
      "Epoch 20/400, Train Loss: 0.4466, Test Loss: 0.5138\n",
      "Early stopping at epoch 21\n"
     ]
    }
   ],
   "source": [
    "epochs = 400\n",
    "best_model_loss = float('inf')\n",
    "best_model_weights = None\n",
    "patience = 5\n",
    "\n",
    "loss_list = []\n",
    "accuracy_list = []\n",
    "\n",
    "for i in range(epochs):\n",
    "    # train_loss = 0.0\n",
    "    model_01.train()\n",
    "\n",
    "    outputs = model_01(X_train_tensor)\n",
    "    loss = loss_fn(outputs, y_train_tensor)\n",
    "    loss_list.append(loss.item())\n",
    "\n",
    "    optimizer.zero_grad()\n",
    "    loss.backward()\n",
    "    optimizer.step()\n",
    "\n",
    "    model_01.eval()\n",
    "    with torch.no_grad():\n",
    "        outputs = model_01(X_test_tensor)\n",
    "        test_loss = loss_fn(outputs, y_test_tensor)\n",
    "    y_pred = torch.sigmoid(outputs).round()\n",
    "    accuracy = (y_pred == y_test_tensor).float().mean().item()\n",
    "    accuracy_list.append(accuracy)\n",
    "\n",
    "    if test_loss < best_model_loss:\n",
    "        best_model_loss = test_loss\n",
    "        best_model_weights = copy.deepcopy(model_01.state_dict())\n",
    "        patience_counter = 0\n",
    "    else:\n",
    "        patience_counter += 1\n",
    "        if patience_counter >= patience:\n",
    "            print(f\"Early stopping at epoch {i+1}\")\n",
    "            break\n",
    "    print(f\"Epoch {i+1}/{epochs}, Train Loss: {loss.item():.4f}, Test Loss: {test_loss.item():.4f}\")\n"
   ]
  },
  {
   "cell_type": "markdown",
   "id": "2d8d844c",
   "metadata": {},
   "source": [
    "Testing the model"
   ]
  },
  {
   "cell_type": "code",
   "execution_count": 11,
   "id": "dda25252",
   "metadata": {},
   "outputs": [],
   "source": [
    "model_01.eval()\n",
    "with torch.no_grad():\n",
    "    outputs = model_01(X_test_tensor)\n",
    "    y_pred = torch.sigmoid(outputs).round().numpy()"
   ]
  },
  {
   "cell_type": "code",
   "execution_count": 12,
   "id": "d8982f40",
   "metadata": {},
   "outputs": [
    {
     "name": "stdout",
     "output_type": "stream",
     "text": [
      "Classification Report:\n",
      "              precision    recall  f1-score   support\n",
      "\n",
      "           0       0.82      0.83      0.82        99\n",
      "           1       0.69      0.67      0.68        55\n",
      "\n",
      "    accuracy                           0.77       154\n",
      "   macro avg       0.75      0.75      0.75       154\n",
      "weighted avg       0.77      0.77      0.77       154\n",
      "\n"
     ]
    }
   ],
   "source": [
    "print(\"Classification Report:\")\n",
    "print(classification_report(y_test, y_pred))"
   ]
  },
  {
   "cell_type": "code",
   "execution_count": 13,
   "id": "c345787d",
   "metadata": {},
   "outputs": [
    {
     "data": {
      "text/plain": [
       "<Axes: >"
      ]
     },
     "execution_count": 13,
     "metadata": {},
     "output_type": "execute_result"
    },
    {
     "data": {
      "image/png": "[encoded data removed]",
      "text/plain": [
       "<Figure size 800x600 with 2 Axes>"
      ]
     },
     "metadata": {},
     "output_type": "display_data"
    }
   ],
   "source": [
    "conf_matrix = confusion_matrix(y_test, y_pred)\n",
    "plt.figure(figsize=(8, 6))\n",
    "sns.heatmap(conf_matrix, annot=True, fmt='d', cmap='Blues', xticklabels=['No Diabetes', 'Diabetes'], yticklabels=['No Diabetes', 'Diabetes'])"
   ]
  },
  {
   "cell_type": "code",
   "execution_count": 14,
   "id": "41baaaed",
   "metadata": {},
   "outputs": [
    {
     "name": "stdout",
     "output_type": "stream",
     "text": [
      "Accuracy: 0.7727\n"
     ]
    }
   ],
   "source": [
    "print(f\"Accuracy: {accuracy_score(y_test, y_pred):.4f}\")"
   ]
  },
  {
   "cell_type": "markdown",
   "id": "b267c5c9",
   "metadata": {},
   "source": [
    "Plotting the loss and accuracy curve"
   ]
  },
  {
   "cell_type": "code",
   "execution_count": 19,
   "id": "7b373d2c",
   "metadata": {},
   "outputs": [
    {
     "data": {
      "image/png": "[encoded data removed]",
      "text/plain": [
       "<Figure size 1200x600 with 1 Axes>"
      ]
     },
     "metadata": {},
     "output_type": "display_data"
    }
   ],
   "source": [
    "plt.figure(figsize=(12, 6))\n",
    "sns.lineplot(x=range(len(loss_list)), y=loss_list, label='Train Loss')\n",
    "sns.lineplot(x=range(len(accuracy_list)), y=accuracy_list, label='Test Accuracy')\n",
    "plt.xlabel('Epochs')\n",
    "plt.ylabel('Loss / Accuracy')\n",
    "plt.title('Loss and Accuracy over Epochs')\n",
    "plt.legend()\n",
    "plt.show()"
   ]
  }
 ],
 "metadata": {
  "kernelspec": {
   "display_name": "minproj_cpu",
   "language": "python",
   "name": "python3"
  },
  "language_info": {
   "codemirror_mode": {
    "name": "ipython",
    "version": 3
   },
   "file_extension": ".py",
   "mimetype": "text/x-python",
   "name": "python",
   "nbconvert_exporter": "python",
   "pygments_lexer": "ipython3",
   "version": "3.12.3"
  }
 },
 "nbformat": 4,
 "nbformat_minor": 5
}
